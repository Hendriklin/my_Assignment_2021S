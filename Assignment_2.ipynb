{
 "cells": [
  {
   "cell_type": "markdown",
   "metadata": {},
   "source": [
    "## Second Assignment"
   ]
  },
  {
   "cell_type": "markdown",
   "metadata": {},
   "source": [
    "#### 1) Create a function called **\"even_squared\"** that receives an integer value **N**, and returns a list containing, in ascending order, the square of each of the even values, from 1 to N, including N if applicable. "
   ]
  },
  {
   "cell_type": "code",
   "execution_count": null,
   "metadata": {},
   "outputs": [],
   "source": [
    "def even_squared(N):\n",
    "    list1 = list(range(1,N+1))\n",
    "    for i in range(0,N):\n",
    "        if list1[i] % 2 == 0:        \n",
    "            list1[i] = list1[i]**2\n",
    "    print(list1)"
   ]
  },
  {
   "cell_type": "markdown",
   "metadata": {},
   "source": [
    "#### 2) Using a while loop and the **input()** function, read an indefinite amount of **integers** until the number read is **-1**. After this process, print two lists on the screen: The first containing the even integers, and the second containing the odd integers. Both must be in ascending order. "
   ]
  },
  {
   "cell_type": "code",
   "execution_count": null,
   "metadata": {},
   "outputs": [],
   "source": [
    "input1 = 0\n",
    "list_odd = []\n",
    "list_even = []\n",
    "list_complete = []\n",
    "\n",
    "while input1 != -1:\n",
    "    input1 = int(input(\"please enter input\"))\n",
    "    #list_odd.append(input1)\n",
    "    list_complete.append(input1)\n",
    "\n",
    "for i in range(0,len(list_complete)-1):\n",
    "    print(i)\n",
    "    if list_complete[i] % 2 == 0:\n",
    "        list_even.append(list_complete[i])\n",
    "    else:\n",
    "        list_odd.append(list_complete[i])\n",
    "    \n",
    "list_odd.sort()\n",
    "list_even.sort()\n",
    "#list_odd = sorted(list_odd)\n",
    "#list_even = sorted(list_even)\n",
    "\n",
    "print(\"odd list: \" + str(list_odd))    \n",
    "print(\"even list: \" + str(list_even))"
   ]
  },
  {
   "cell_type": "markdown",
   "metadata": {},
   "source": [
    "#### 3) Create a function called **\"even_account\"** that receives a list of integers, counts the number of existing even elements, and returns this count. "
   ]
  },
  {
   "cell_type": "code",
   "execution_count": null,
   "metadata": {},
   "outputs": [],
   "source": [
    "def even_account(list1):\n",
    "    counter = 0\n",
    "    for i in range(0,len(list1)):\n",
    "        if list1[i] % 2 == 0:\n",
    "            counter += 1\n",
    "    print(counter)\n",
    "\n",
    "even_account([2,5,4,3,7,6,9,0])"
   ]
  },
  {
   "cell_type": "markdown",
   "metadata": {},
   "source": [
    "#### 4) Create a function called **\"squared_list\"** that receives a list of integers and returns another list whose elements are the squares of the elements of the first. "
   ]
  },
  {
   "cell_type": "code",
   "execution_count": null,
   "metadata": {},
   "outputs": [],
   "source": [
    "def squared_list(list_input):\n",
    "    list_output = list_input\n",
    "    for i in range(0,len(list_output)):\n",
    "        list_output[i] = list_output[i]**2\n",
    "    print(list_output)\n",
    "    \n",
    "squared_list([3,4,56,76,87,5,43,3,3])\n",
    "\n",
    "        "
   ]
  },
  {
   "cell_type": "markdown",
   "metadata": {},
   "source": [
    "#### 5) Create a function called **\"descending\"** that receives two lists of integers and returns a single list, which contains all the elements in descending order, and may include repeated elements. "
   ]
  },
  {
   "cell_type": "code",
   "execution_count": null,
   "metadata": {},
   "outputs": [],
   "source": [
    "def descending(list1, list2):\n",
    "    for element in list1:\n",
    "        list2.append(element)\n",
    "    list2.sort(reverse=1)\n",
    "    print(list2)\n",
    "    \n",
    "descending([2,4,45,6,7,7,45,43], [2,3,4,5,6,7,54])"
   ]
  },
  {
   "cell_type": "markdown",
   "metadata": {},
   "source": [
    "#### 6) Create a function called **\"adding\"** that receives a list **A**, and an arbitrary number of integers as input. Return a new list containing the elements of **A** plus the integers passed as input, in the order in which they were given. Here is an example: \n",
    "\n",
    ">```python\n",
    ">>>> A = [10,20,30]\n",
    ">>>> adding(A, 4, 10, 50, 1)\n",
    "> [10, 20, 30, 4, 10, 50, 1]\n",
    "```"
   ]
  },
  {
   "cell_type": "code",
   "execution_count": null,
   "metadata": {},
   "outputs": [],
   "source": [
    "def adding(*args):\n",
    "    list_out = args[0]\n",
    "    for i in range(1,len(args)):\n",
    "        list_out.append(args[i])\n",
    "    print(list_out)\n",
    "    \n",
    "adding([2,3,4,5,56],3,43,5,6,7,8)"
   ]
  },
  {
   "cell_type": "markdown",
   "metadata": {},
   "source": [
    "#### 7) Create a function called **\"intersection\"** that receives two input lists and returns another list with the values that belong to the two lists simultaneously (intersection) without repetition of values and in ascending order. Use only lists (do not use sets); loops and conditionals. See the example: \n",
    "\n",
    ">```python\n",
    ">>>> A = [-2, 0, 1, 2, 3]\n",
    ">>>> B = [-1, 2, 3, 6, 8]\n",
    ">>>> intersection(A,B)\n",
    "> [2, 3]\n",
    "```"
   ]
  },
  {
   "cell_type": "code",
   "execution_count": null,
   "metadata": {},
   "outputs": [],
   "source": [
    "def intersection(list1, list2):\n",
    "    list_output = []\n",
    "    for i in range(0,len(list1)):\n",
    "        if list1[i] in list2:\n",
    "            list_output.append(list1[i])\n",
    "    list_output.sort()\n",
    "    set_output = set()\n",
    "    for element in list_output:\n",
    "        set_output.add(element)\n",
    "    print(set_output)\n",
    "    \n",
    "intersection([2,3,4,5,5,43,3,2,32],[2,3,3,5,45,65,4,2,21,21,3,3])\n",
    "        "
   ]
  },
  {
   "cell_type": "markdown",
   "metadata": {},
   "source": [
    "#### 8) Create a function called **\"union\"** that receives two input lists and returns another list with the union of the elements of the two received, without repetition of elements and in ascending order. Use only lists (do not use sets); loops and conditionals. See the example: \n",
    "\n",
    ">```python\n",
    ">>>> A = [-2, 0, 1, 2]\n",
    ">>>> B = [-1, 1, 2, 10]\n",
    ">>>> union(A,B)\n",
    "> [-2, ,-1, 0, 1, 2, 10]\n",
    "```"
   ]
  },
  {
   "cell_type": "code",
   "execution_count": null,
   "metadata": {},
   "outputs": [],
   "source": [
    "def union(list1, list2):\n",
    "    for element in list1:\n",
    "        list2.append(element)\n",
    "    list2.sort()\n",
    "    list_out = []\n",
    "    for i in range(0,len(list2)-1):\n",
    "        if list2[i] != list2[i+1]:\n",
    "            list_out.append(list2[i])\n",
    "    list_out.sort()\n",
    "    print(list_out)\n",
    "\n",
    "union([1,2,34,43,5,3,2,2,4], [1,3,45,5,4,2,21,3,45])"
   ]
  },
  {
   "cell_type": "markdown",
   "metadata": {},
   "source": [
    "#### 9) Generalize the **\"intersection\"** function so that it receives an indefinite number of lists and returns the intersection of all of them. Call the new function **intersection2**. "
   ]
  },
  {
   "cell_type": "code",
   "execution_count": null,
   "metadata": {},
   "outputs": [],
   "source": [
    "def intersection2(*args):\n",
    "    list_output = []\n",
    "    for j in range(1,len(args)):\n",
    "        for i in range(0,len(args[j])):\n",
    "            if args[j][i] in args[0]:\n",
    "                list_output.append(args[j][i])\n",
    "    list_output.sort()\n",
    "    set_output = set()\n",
    "    for element in list_output:\n",
    "        set_output.add(element)\n",
    "    print(set_output)"
   ]
  },
  {
   "cell_type": "markdown",
   "metadata": {},
   "source": [
    "## Challenge\n",
    "\n",
    "#### 10) Create a function named **\"matrix\"** that implements matrix multiplication:\n",
    "    \n",
    "Given the matrices:\n",
    "    \n",
    "$A_{m\\times n}=\n",
    "\\left[\\begin{matrix}\n",
    "a_{11}&a_{12}&...&a_{1n}\\\\\n",
    "a_{21}&a_{22}&...&a_{2n}\\\\\n",
    "\\vdots &\\vdots &&\\vdots\\\\\n",
    "a_{m1}&a_{m2}&...&a_{mn}\\\\\n",
    "\\end{matrix}\\right]$\n",
    "    \n",
    "We will represent then as a list of lists.\n",
    "\n",
    "$A = [[a_{11},a_{12},...,a_{1n}],[a_{21},a_{22},...,a_{2n}], . . . ,[a_{m1},a_{m2},...,a_{mn}]]$\n",
    "\n",
    "The **\"matrix\"** funtion must receive two matrices $A$ e $B$ in the specified format and return $A\\times B$"
   ]
  },
  {
   "cell_type": "code",
   "execution_count": null,
   "metadata": {},
   "outputs": [],
   "source": []
  }
 ],
 "metadata": {
  "kernelspec": {
   "display_name": "Python 3",
   "language": "python",
   "name": "python3"
  },
  "language_info": {
   "codemirror_mode": {
    "name": "ipython",
    "version": 3
   },
   "file_extension": ".py",
   "mimetype": "text/x-python",
   "name": "python",
   "nbconvert_exporter": "python",
   "pygments_lexer": "ipython3",
   "version": "3.8.5"
  }
 },
 "nbformat": 4,
 "nbformat_minor": 4
}
